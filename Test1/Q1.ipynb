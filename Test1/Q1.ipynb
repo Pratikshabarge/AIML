{
  "nbformat": 4,
  "nbformat_minor": 0,
  "metadata": {
    "colab": {
      "name": "Q1.ipynb",
      "provenance": [],
      "authorship_tag": "ABX9TyNdqTmLd3nbhcSN8p2sPn4z",
      "include_colab_link": true
    },
    "kernelspec": {
      "name": "python3",
      "display_name": "Python 3"
    },
    "language_info": {
      "name": "python"
    }
  },
  "cells": [
    {
      "cell_type": "markdown",
      "metadata": {
        "id": "view-in-github",
        "colab_type": "text"
      },
      "source": [
        "<a href=\"https://colab.research.google.com/github/Pratikshabarge/AIML/blob/main/Test1/Q1.ipynb\" target=\"_parent\"><img src=\"https://colab.research.google.com/assets/colab-badge.svg\" alt=\"Open In Colab\"/></a>"
      ]
    },
    {
      "cell_type": "code",
      "metadata": {
        "colab": {
          "base_uri": "https://localhost:8080/"
        },
        "id": "ProcmZi5M0Vc",
        "outputId": "7fd54661-9db0-4dc8-edf4-7a886ddca3b1"
      },
      "source": [
        "import numpy as np \n",
        "\n",
        "a=np.array([[1,2,3],[4,5,6],[7,8,9]])\n",
        "a[:, 1:2]"
      ],
      "execution_count": 10,
      "outputs": [
        {
          "output_type": "execute_result",
          "data": {
            "text/plain": [
              "array([[2],\n",
              "       [5],\n",
              "       [8]])"
            ]
          },
          "metadata": {
            "tags": []
          },
          "execution_count": 10
        }
      ]
    },
    {
      "cell_type": "code",
      "metadata": {
        "id": "h8VLbWs-Prwq"
      },
      "source": [
        "import matplotlib.pyplot as plt\n",
        "plt.plot()"
      ],
      "execution_count": null,
      "outputs": []
    }
  ]
}